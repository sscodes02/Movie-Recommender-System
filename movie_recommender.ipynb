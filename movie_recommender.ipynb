{
 "cells": [
  {
   "cell_type": "code",
   "execution_count": 90,
   "id": "7163bbf6-662f-465c-991e-c24259013c5b",
   "metadata": {},
   "outputs": [],
   "source": [
    "import numpy as np\n",
    "import pandas as pd"
   ]
  },
  {
   "cell_type": "code",
   "execution_count": 91,
   "id": "007a9270-18fd-4cd8-b1be-eab30b414860",
   "metadata": {},
   "outputs": [],
   "source": [
    "movies = pd.read_csv('netflix_titles.csv')"
   ]
  },
  {
   "cell_type": "code",
   "execution_count": 92,
   "id": "cc0ce063-2250-41cd-b710-d5a4f6c52b32",
   "metadata": {},
   "outputs": [
    {
     "data": {
      "text/html": [
       "<div>\n",
       "<style scoped>\n",
       "    .dataframe tbody tr th:only-of-type {\n",
       "        vertical-align: middle;\n",
       "    }\n",
       "\n",
       "    .dataframe tbody tr th {\n",
       "        vertical-align: top;\n",
       "    }\n",
       "\n",
       "    .dataframe thead th {\n",
       "        text-align: right;\n",
       "    }\n",
       "</style>\n",
       "<table border=\"1\" class=\"dataframe\">\n",
       "  <thead>\n",
       "    <tr style=\"text-align: right;\">\n",
       "      <th></th>\n",
       "      <th>show_id</th>\n",
       "      <th>type</th>\n",
       "      <th>title</th>\n",
       "      <th>director</th>\n",
       "      <th>cast</th>\n",
       "      <th>country</th>\n",
       "      <th>date_added</th>\n",
       "      <th>release_year</th>\n",
       "      <th>rating</th>\n",
       "      <th>duration</th>\n",
       "      <th>listed_in</th>\n",
       "      <th>description</th>\n",
       "    </tr>\n",
       "  </thead>\n",
       "  <tbody>\n",
       "    <tr>\n",
       "      <th>0</th>\n",
       "      <td>s1</td>\n",
       "      <td>Movie</td>\n",
       "      <td>Dick Johnson Is Dead</td>\n",
       "      <td>Kirsten Johnson</td>\n",
       "      <td>NaN</td>\n",
       "      <td>United States</td>\n",
       "      <td>September 25, 2021</td>\n",
       "      <td>2020</td>\n",
       "      <td>PG-13</td>\n",
       "      <td>90 min</td>\n",
       "      <td>Documentaries</td>\n",
       "      <td>As her father nears the end of his life, filmm...</td>\n",
       "    </tr>\n",
       "    <tr>\n",
       "      <th>1</th>\n",
       "      <td>s2</td>\n",
       "      <td>TV Show</td>\n",
       "      <td>Blood &amp; Water</td>\n",
       "      <td>NaN</td>\n",
       "      <td>Ama Qamata, Khosi Ngema, Gail Mabalane, Thaban...</td>\n",
       "      <td>South Africa</td>\n",
       "      <td>September 24, 2021</td>\n",
       "      <td>2021</td>\n",
       "      <td>TV-MA</td>\n",
       "      <td>2 Seasons</td>\n",
       "      <td>International TV Shows, TV Dramas, TV Mysteries</td>\n",
       "      <td>After crossing paths at a party, a Cape Town t...</td>\n",
       "    </tr>\n",
       "    <tr>\n",
       "      <th>2</th>\n",
       "      <td>s3</td>\n",
       "      <td>TV Show</td>\n",
       "      <td>Ganglands</td>\n",
       "      <td>Julien Leclercq</td>\n",
       "      <td>Sami Bouajila, Tracy Gotoas, Samuel Jouy, Nabi...</td>\n",
       "      <td>NaN</td>\n",
       "      <td>September 24, 2021</td>\n",
       "      <td>2021</td>\n",
       "      <td>TV-MA</td>\n",
       "      <td>1 Season</td>\n",
       "      <td>Crime TV Shows, International TV Shows, TV Act...</td>\n",
       "      <td>To protect his family from a powerful drug lor...</td>\n",
       "    </tr>\n",
       "    <tr>\n",
       "      <th>3</th>\n",
       "      <td>s4</td>\n",
       "      <td>TV Show</td>\n",
       "      <td>Jailbirds New Orleans</td>\n",
       "      <td>NaN</td>\n",
       "      <td>NaN</td>\n",
       "      <td>NaN</td>\n",
       "      <td>September 24, 2021</td>\n",
       "      <td>2021</td>\n",
       "      <td>TV-MA</td>\n",
       "      <td>1 Season</td>\n",
       "      <td>Docuseries, Reality TV</td>\n",
       "      <td>Feuds, flirtations and toilet talk go down amo...</td>\n",
       "    </tr>\n",
       "    <tr>\n",
       "      <th>4</th>\n",
       "      <td>s5</td>\n",
       "      <td>TV Show</td>\n",
       "      <td>Kota Factory</td>\n",
       "      <td>NaN</td>\n",
       "      <td>Mayur More, Jitendra Kumar, Ranjan Raj, Alam K...</td>\n",
       "      <td>India</td>\n",
       "      <td>September 24, 2021</td>\n",
       "      <td>2021</td>\n",
       "      <td>TV-MA</td>\n",
       "      <td>2 Seasons</td>\n",
       "      <td>International TV Shows, Romantic TV Shows, TV ...</td>\n",
       "      <td>In a city of coaching centers known to train I...</td>\n",
       "    </tr>\n",
       "  </tbody>\n",
       "</table>\n",
       "</div>"
      ],
      "text/plain": [
       "  show_id     type                  title         director  \\\n",
       "0      s1    Movie   Dick Johnson Is Dead  Kirsten Johnson   \n",
       "1      s2  TV Show          Blood & Water              NaN   \n",
       "2      s3  TV Show              Ganglands  Julien Leclercq   \n",
       "3      s4  TV Show  Jailbirds New Orleans              NaN   \n",
       "4      s5  TV Show           Kota Factory              NaN   \n",
       "\n",
       "                                                cast        country  \\\n",
       "0                                                NaN  United States   \n",
       "1  Ama Qamata, Khosi Ngema, Gail Mabalane, Thaban...   South Africa   \n",
       "2  Sami Bouajila, Tracy Gotoas, Samuel Jouy, Nabi...            NaN   \n",
       "3                                                NaN            NaN   \n",
       "4  Mayur More, Jitendra Kumar, Ranjan Raj, Alam K...          India   \n",
       "\n",
       "           date_added  release_year rating   duration  \\\n",
       "0  September 25, 2021          2020  PG-13     90 min   \n",
       "1  September 24, 2021          2021  TV-MA  2 Seasons   \n",
       "2  September 24, 2021          2021  TV-MA   1 Season   \n",
       "3  September 24, 2021          2021  TV-MA   1 Season   \n",
       "4  September 24, 2021          2021  TV-MA  2 Seasons   \n",
       "\n",
       "                                           listed_in  \\\n",
       "0                                      Documentaries   \n",
       "1    International TV Shows, TV Dramas, TV Mysteries   \n",
       "2  Crime TV Shows, International TV Shows, TV Act...   \n",
       "3                             Docuseries, Reality TV   \n",
       "4  International TV Shows, Romantic TV Shows, TV ...   \n",
       "\n",
       "                                         description  \n",
       "0  As her father nears the end of his life, filmm...  \n",
       "1  After crossing paths at a party, a Cape Town t...  \n",
       "2  To protect his family from a powerful drug lor...  \n",
       "3  Feuds, flirtations and toilet talk go down amo...  \n",
       "4  In a city of coaching centers known to train I...  "
      ]
     },
     "execution_count": 92,
     "metadata": {},
     "output_type": "execute_result"
    }
   ],
   "source": [
    "movies.head()"
   ]
  },
  {
   "cell_type": "code",
   "execution_count": 93,
   "id": "1d12f11c-beb2-4df9-82d3-5f100a7fe9b6",
   "metadata": {},
   "outputs": [
    {
     "name": "stdout",
     "output_type": "stream",
     "text": [
      "<class 'pandas.core.frame.DataFrame'>\n",
      "RangeIndex: 8807 entries, 0 to 8806\n",
      "Data columns (total 12 columns):\n",
      " #   Column        Non-Null Count  Dtype \n",
      "---  ------        --------------  ----- \n",
      " 0   show_id       8807 non-null   object\n",
      " 1   type          8807 non-null   object\n",
      " 2   title         8807 non-null   object\n",
      " 3   director      6173 non-null   object\n",
      " 4   cast          7982 non-null   object\n",
      " 5   country       7976 non-null   object\n",
      " 6   date_added    8797 non-null   object\n",
      " 7   release_year  8807 non-null   int64 \n",
      " 8   rating        8803 non-null   object\n",
      " 9   duration      8804 non-null   object\n",
      " 10  listed_in     8807 non-null   object\n",
      " 11  description   8807 non-null   object\n",
      "dtypes: int64(1), object(11)\n",
      "memory usage: 825.8+ KB\n"
     ]
    }
   ],
   "source": [
    "movies.info()"
   ]
  },
  {
   "cell_type": "code",
   "execution_count": 94,
   "id": "4f052146-d9b0-41b1-be12-a6ee0050e79b",
   "metadata": {},
   "outputs": [],
   "source": [
    "movies = movies[['show_id','type','cast','title','country','description','listed_in']]"
   ]
  },
  {
   "cell_type": "code",
   "execution_count": 95,
   "id": "9e13f91a-6dc1-480b-995c-ab1449347bab",
   "metadata": {},
   "outputs": [
    {
     "data": {
      "text/html": [
       "<div>\n",
       "<style scoped>\n",
       "    .dataframe tbody tr th:only-of-type {\n",
       "        vertical-align: middle;\n",
       "    }\n",
       "\n",
       "    .dataframe tbody tr th {\n",
       "        vertical-align: top;\n",
       "    }\n",
       "\n",
       "    .dataframe thead th {\n",
       "        text-align: right;\n",
       "    }\n",
       "</style>\n",
       "<table border=\"1\" class=\"dataframe\">\n",
       "  <thead>\n",
       "    <tr style=\"text-align: right;\">\n",
       "      <th></th>\n",
       "      <th>show_id</th>\n",
       "      <th>type</th>\n",
       "      <th>cast</th>\n",
       "      <th>title</th>\n",
       "      <th>country</th>\n",
       "      <th>description</th>\n",
       "      <th>listed_in</th>\n",
       "    </tr>\n",
       "  </thead>\n",
       "  <tbody>\n",
       "    <tr>\n",
       "      <th>0</th>\n",
       "      <td>s1</td>\n",
       "      <td>Movie</td>\n",
       "      <td>NaN</td>\n",
       "      <td>Dick Johnson Is Dead</td>\n",
       "      <td>United States</td>\n",
       "      <td>As her father nears the end of his life, filmm...</td>\n",
       "      <td>Documentaries</td>\n",
       "    </tr>\n",
       "    <tr>\n",
       "      <th>1</th>\n",
       "      <td>s2</td>\n",
       "      <td>TV Show</td>\n",
       "      <td>Ama Qamata, Khosi Ngema, Gail Mabalane, Thaban...</td>\n",
       "      <td>Blood &amp; Water</td>\n",
       "      <td>South Africa</td>\n",
       "      <td>After crossing paths at a party, a Cape Town t...</td>\n",
       "      <td>International TV Shows, TV Dramas, TV Mysteries</td>\n",
       "    </tr>\n",
       "    <tr>\n",
       "      <th>2</th>\n",
       "      <td>s3</td>\n",
       "      <td>TV Show</td>\n",
       "      <td>Sami Bouajila, Tracy Gotoas, Samuel Jouy, Nabi...</td>\n",
       "      <td>Ganglands</td>\n",
       "      <td>NaN</td>\n",
       "      <td>To protect his family from a powerful drug lor...</td>\n",
       "      <td>Crime TV Shows, International TV Shows, TV Act...</td>\n",
       "    </tr>\n",
       "    <tr>\n",
       "      <th>3</th>\n",
       "      <td>s4</td>\n",
       "      <td>TV Show</td>\n",
       "      <td>NaN</td>\n",
       "      <td>Jailbirds New Orleans</td>\n",
       "      <td>NaN</td>\n",
       "      <td>Feuds, flirtations and toilet talk go down amo...</td>\n",
       "      <td>Docuseries, Reality TV</td>\n",
       "    </tr>\n",
       "    <tr>\n",
       "      <th>4</th>\n",
       "      <td>s5</td>\n",
       "      <td>TV Show</td>\n",
       "      <td>Mayur More, Jitendra Kumar, Ranjan Raj, Alam K...</td>\n",
       "      <td>Kota Factory</td>\n",
       "      <td>India</td>\n",
       "      <td>In a city of coaching centers known to train I...</td>\n",
       "      <td>International TV Shows, Romantic TV Shows, TV ...</td>\n",
       "    </tr>\n",
       "  </tbody>\n",
       "</table>\n",
       "</div>"
      ],
      "text/plain": [
       "  show_id     type                                               cast  \\\n",
       "0      s1    Movie                                                NaN   \n",
       "1      s2  TV Show  Ama Qamata, Khosi Ngema, Gail Mabalane, Thaban...   \n",
       "2      s3  TV Show  Sami Bouajila, Tracy Gotoas, Samuel Jouy, Nabi...   \n",
       "3      s4  TV Show                                                NaN   \n",
       "4      s5  TV Show  Mayur More, Jitendra Kumar, Ranjan Raj, Alam K...   \n",
       "\n",
       "                   title        country  \\\n",
       "0   Dick Johnson Is Dead  United States   \n",
       "1          Blood & Water   South Africa   \n",
       "2              Ganglands            NaN   \n",
       "3  Jailbirds New Orleans            NaN   \n",
       "4           Kota Factory          India   \n",
       "\n",
       "                                         description  \\\n",
       "0  As her father nears the end of his life, filmm...   \n",
       "1  After crossing paths at a party, a Cape Town t...   \n",
       "2  To protect his family from a powerful drug lor...   \n",
       "3  Feuds, flirtations and toilet talk go down amo...   \n",
       "4  In a city of coaching centers known to train I...   \n",
       "\n",
       "                                           listed_in  \n",
       "0                                      Documentaries  \n",
       "1    International TV Shows, TV Dramas, TV Mysteries  \n",
       "2  Crime TV Shows, International TV Shows, TV Act...  \n",
       "3                             Docuseries, Reality TV  \n",
       "4  International TV Shows, Romantic TV Shows, TV ...  "
      ]
     },
     "execution_count": 95,
     "metadata": {},
     "output_type": "execute_result"
    }
   ],
   "source": [
    "movies.head()"
   ]
  },
  {
   "cell_type": "code",
   "execution_count": 96,
   "id": "94dd5dba-3f8e-4fa4-9cb0-5012a74f633d",
   "metadata": {},
   "outputs": [
    {
     "data": {
      "text/plain": [
       "show_id          0\n",
       "type             0\n",
       "cast           825\n",
       "title            0\n",
       "country        831\n",
       "description      0\n",
       "listed_in        0\n",
       "dtype: int64"
      ]
     },
     "execution_count": 96,
     "metadata": {},
     "output_type": "execute_result"
    }
   ],
   "source": [
    "movies.isnull().sum()"
   ]
  },
  {
   "cell_type": "code",
   "execution_count": 97,
   "id": "dbe1f822-d325-4493-9de0-474efbccc3db",
   "metadata": {},
   "outputs": [],
   "source": [
    "movies.dropna(inplace = True)"
   ]
  },
  {
   "cell_type": "code",
   "execution_count": 98,
   "id": "3148de9d-a36b-45b2-9476-fe18b08553f4",
   "metadata": {},
   "outputs": [
    {
     "data": {
      "text/plain": [
       "0"
      ]
     },
     "execution_count": 98,
     "metadata": {},
     "output_type": "execute_result"
    }
   ],
   "source": [
    "movies.duplicated().sum()"
   ]
  },
  {
   "cell_type": "code",
   "execution_count": 99,
   "id": "f48da533-acff-4dfa-8ca1-e24a1908d724",
   "metadata": {},
   "outputs": [
    {
     "data": {
      "text/html": [
       "<div>\n",
       "<style scoped>\n",
       "    .dataframe tbody tr th:only-of-type {\n",
       "        vertical-align: middle;\n",
       "    }\n",
       "\n",
       "    .dataframe tbody tr th {\n",
       "        vertical-align: top;\n",
       "    }\n",
       "\n",
       "    .dataframe thead th {\n",
       "        text-align: right;\n",
       "    }\n",
       "</style>\n",
       "<table border=\"1\" class=\"dataframe\">\n",
       "  <thead>\n",
       "    <tr style=\"text-align: right;\">\n",
       "      <th></th>\n",
       "      <th>show_id</th>\n",
       "      <th>type</th>\n",
       "      <th>cast</th>\n",
       "      <th>title</th>\n",
       "      <th>country</th>\n",
       "      <th>description</th>\n",
       "      <th>listed_in</th>\n",
       "    </tr>\n",
       "  </thead>\n",
       "  <tbody>\n",
       "    <tr>\n",
       "      <th>1</th>\n",
       "      <td>s2</td>\n",
       "      <td>TV Show</td>\n",
       "      <td>Ama Qamata, Khosi Ngema, Gail Mabalane, Thaban...</td>\n",
       "      <td>Blood &amp; Water</td>\n",
       "      <td>South Africa</td>\n",
       "      <td>After crossing paths at a party, a Cape Town t...</td>\n",
       "      <td>International TV Shows, TV Dramas, TV Mysteries</td>\n",
       "    </tr>\n",
       "    <tr>\n",
       "      <th>4</th>\n",
       "      <td>s5</td>\n",
       "      <td>TV Show</td>\n",
       "      <td>Mayur More, Jitendra Kumar, Ranjan Raj, Alam K...</td>\n",
       "      <td>Kota Factory</td>\n",
       "      <td>India</td>\n",
       "      <td>In a city of coaching centers known to train I...</td>\n",
       "      <td>International TV Shows, Romantic TV Shows, TV ...</td>\n",
       "    </tr>\n",
       "    <tr>\n",
       "      <th>7</th>\n",
       "      <td>s8</td>\n",
       "      <td>Movie</td>\n",
       "      <td>Kofi Ghanaba, Oyafunmike Ogunlano, Alexandra D...</td>\n",
       "      <td>Sankofa</td>\n",
       "      <td>United States, Ghana, Burkina Faso, United Kin...</td>\n",
       "      <td>On a photo shoot in Ghana, an American model s...</td>\n",
       "      <td>Dramas, Independent Movies, International Movies</td>\n",
       "    </tr>\n",
       "    <tr>\n",
       "      <th>8</th>\n",
       "      <td>s9</td>\n",
       "      <td>TV Show</td>\n",
       "      <td>Mel Giedroyc, Sue Perkins, Mary Berry, Paul Ho...</td>\n",
       "      <td>The Great British Baking Show</td>\n",
       "      <td>United Kingdom</td>\n",
       "      <td>A talented batch of amateur bakers face off in...</td>\n",
       "      <td>British TV Shows, Reality TV</td>\n",
       "    </tr>\n",
       "    <tr>\n",
       "      <th>9</th>\n",
       "      <td>s10</td>\n",
       "      <td>Movie</td>\n",
       "      <td>Melissa McCarthy, Chris O'Dowd, Kevin Kline, T...</td>\n",
       "      <td>The Starling</td>\n",
       "      <td>United States</td>\n",
       "      <td>A woman adjusting to life after a loss contend...</td>\n",
       "      <td>Comedies, Dramas</td>\n",
       "    </tr>\n",
       "  </tbody>\n",
       "</table>\n",
       "</div>"
      ],
      "text/plain": [
       "  show_id     type                                               cast  \\\n",
       "1      s2  TV Show  Ama Qamata, Khosi Ngema, Gail Mabalane, Thaban...   \n",
       "4      s5  TV Show  Mayur More, Jitendra Kumar, Ranjan Raj, Alam K...   \n",
       "7      s8    Movie  Kofi Ghanaba, Oyafunmike Ogunlano, Alexandra D...   \n",
       "8      s9  TV Show  Mel Giedroyc, Sue Perkins, Mary Berry, Paul Ho...   \n",
       "9     s10    Movie  Melissa McCarthy, Chris O'Dowd, Kevin Kline, T...   \n",
       "\n",
       "                           title  \\\n",
       "1                  Blood & Water   \n",
       "4                   Kota Factory   \n",
       "7                        Sankofa   \n",
       "8  The Great British Baking Show   \n",
       "9                   The Starling   \n",
       "\n",
       "                                             country  \\\n",
       "1                                       South Africa   \n",
       "4                                              India   \n",
       "7  United States, Ghana, Burkina Faso, United Kin...   \n",
       "8                                     United Kingdom   \n",
       "9                                      United States   \n",
       "\n",
       "                                         description  \\\n",
       "1  After crossing paths at a party, a Cape Town t...   \n",
       "4  In a city of coaching centers known to train I...   \n",
       "7  On a photo shoot in Ghana, an American model s...   \n",
       "8  A talented batch of amateur bakers face off in...   \n",
       "9  A woman adjusting to life after a loss contend...   \n",
       "\n",
       "                                           listed_in  \n",
       "1    International TV Shows, TV Dramas, TV Mysteries  \n",
       "4  International TV Shows, Romantic TV Shows, TV ...  \n",
       "7   Dramas, Independent Movies, International Movies  \n",
       "8                       British TV Shows, Reality TV  \n",
       "9                                   Comedies, Dramas  "
      ]
     },
     "execution_count": 99,
     "metadata": {},
     "output_type": "execute_result"
    }
   ],
   "source": [
    "movies.head()"
   ]
  },
  {
   "cell_type": "code",
   "execution_count": 100,
   "id": "a741e02b-9770-440e-a879-f2d24257b6a6",
   "metadata": {},
   "outputs": [],
   "source": [
    "movies = movies.reset_index(drop = True)"
   ]
  },
  {
   "cell_type": "code",
   "execution_count": 101,
   "id": "96d4c883-2da4-4846-8a2f-c655087d4d42",
   "metadata": {},
   "outputs": [
    {
     "data": {
      "text/html": [
       "<div>\n",
       "<style scoped>\n",
       "    .dataframe tbody tr th:only-of-type {\n",
       "        vertical-align: middle;\n",
       "    }\n",
       "\n",
       "    .dataframe tbody tr th {\n",
       "        vertical-align: top;\n",
       "    }\n",
       "\n",
       "    .dataframe thead th {\n",
       "        text-align: right;\n",
       "    }\n",
       "</style>\n",
       "<table border=\"1\" class=\"dataframe\">\n",
       "  <thead>\n",
       "    <tr style=\"text-align: right;\">\n",
       "      <th></th>\n",
       "      <th>show_id</th>\n",
       "      <th>type</th>\n",
       "      <th>cast</th>\n",
       "      <th>title</th>\n",
       "      <th>country</th>\n",
       "      <th>description</th>\n",
       "      <th>listed_in</th>\n",
       "    </tr>\n",
       "  </thead>\n",
       "  <tbody>\n",
       "    <tr>\n",
       "      <th>0</th>\n",
       "      <td>s2</td>\n",
       "      <td>TV Show</td>\n",
       "      <td>Ama Qamata, Khosi Ngema, Gail Mabalane, Thaban...</td>\n",
       "      <td>Blood &amp; Water</td>\n",
       "      <td>South Africa</td>\n",
       "      <td>After crossing paths at a party, a Cape Town t...</td>\n",
       "      <td>International TV Shows, TV Dramas, TV Mysteries</td>\n",
       "    </tr>\n",
       "    <tr>\n",
       "      <th>1</th>\n",
       "      <td>s5</td>\n",
       "      <td>TV Show</td>\n",
       "      <td>Mayur More, Jitendra Kumar, Ranjan Raj, Alam K...</td>\n",
       "      <td>Kota Factory</td>\n",
       "      <td>India</td>\n",
       "      <td>In a city of coaching centers known to train I...</td>\n",
       "      <td>International TV Shows, Romantic TV Shows, TV ...</td>\n",
       "    </tr>\n",
       "    <tr>\n",
       "      <th>2</th>\n",
       "      <td>s8</td>\n",
       "      <td>Movie</td>\n",
       "      <td>Kofi Ghanaba, Oyafunmike Ogunlano, Alexandra D...</td>\n",
       "      <td>Sankofa</td>\n",
       "      <td>United States, Ghana, Burkina Faso, United Kin...</td>\n",
       "      <td>On a photo shoot in Ghana, an American model s...</td>\n",
       "      <td>Dramas, Independent Movies, International Movies</td>\n",
       "    </tr>\n",
       "    <tr>\n",
       "      <th>3</th>\n",
       "      <td>s9</td>\n",
       "      <td>TV Show</td>\n",
       "      <td>Mel Giedroyc, Sue Perkins, Mary Berry, Paul Ho...</td>\n",
       "      <td>The Great British Baking Show</td>\n",
       "      <td>United Kingdom</td>\n",
       "      <td>A talented batch of amateur bakers face off in...</td>\n",
       "      <td>British TV Shows, Reality TV</td>\n",
       "    </tr>\n",
       "    <tr>\n",
       "      <th>4</th>\n",
       "      <td>s10</td>\n",
       "      <td>Movie</td>\n",
       "      <td>Melissa McCarthy, Chris O'Dowd, Kevin Kline, T...</td>\n",
       "      <td>The Starling</td>\n",
       "      <td>United States</td>\n",
       "      <td>A woman adjusting to life after a loss contend...</td>\n",
       "      <td>Comedies, Dramas</td>\n",
       "    </tr>\n",
       "  </tbody>\n",
       "</table>\n",
       "</div>"
      ],
      "text/plain": [
       "  show_id     type                                               cast  \\\n",
       "0      s2  TV Show  Ama Qamata, Khosi Ngema, Gail Mabalane, Thaban...   \n",
       "1      s5  TV Show  Mayur More, Jitendra Kumar, Ranjan Raj, Alam K...   \n",
       "2      s8    Movie  Kofi Ghanaba, Oyafunmike Ogunlano, Alexandra D...   \n",
       "3      s9  TV Show  Mel Giedroyc, Sue Perkins, Mary Berry, Paul Ho...   \n",
       "4     s10    Movie  Melissa McCarthy, Chris O'Dowd, Kevin Kline, T...   \n",
       "\n",
       "                           title  \\\n",
       "0                  Blood & Water   \n",
       "1                   Kota Factory   \n",
       "2                        Sankofa   \n",
       "3  The Great British Baking Show   \n",
       "4                   The Starling   \n",
       "\n",
       "                                             country  \\\n",
       "0                                       South Africa   \n",
       "1                                              India   \n",
       "2  United States, Ghana, Burkina Faso, United Kin...   \n",
       "3                                     United Kingdom   \n",
       "4                                      United States   \n",
       "\n",
       "                                         description  \\\n",
       "0  After crossing paths at a party, a Cape Town t...   \n",
       "1  In a city of coaching centers known to train I...   \n",
       "2  On a photo shoot in Ghana, an American model s...   \n",
       "3  A talented batch of amateur bakers face off in...   \n",
       "4  A woman adjusting to life after a loss contend...   \n",
       "\n",
       "                                           listed_in  \n",
       "0    International TV Shows, TV Dramas, TV Mysteries  \n",
       "1  International TV Shows, Romantic TV Shows, TV ...  \n",
       "2   Dramas, Independent Movies, International Movies  \n",
       "3                       British TV Shows, Reality TV  \n",
       "4                                   Comedies, Dramas  "
      ]
     },
     "execution_count": 101,
     "metadata": {},
     "output_type": "execute_result"
    }
   ],
   "source": [
    "movies.head()"
   ]
  },
  {
   "cell_type": "code",
   "execution_count": 102,
   "id": "0261efdc-0a1d-4c1b-a313-dc46189c633c",
   "metadata": {},
   "outputs": [],
   "source": [
    "# movies['cast'] = movies['cast'].apply(lambda x:x.split())"
   ]
  },
  {
   "cell_type": "code",
   "execution_count": 103,
   "id": "8a89c381-05d6-4a32-9445-ad87f8bc94a9",
   "metadata": {},
   "outputs": [],
   "source": [
    "# movies['description'] = movies['description'].apply(lambda x:x.split())"
   ]
  },
  {
   "cell_type": "code",
   "execution_count": 104,
   "id": "745dfb9e-def8-45ae-a03a-9282e69503f7",
   "metadata": {},
   "outputs": [],
   "source": [
    "# movies['listed_in'] = movies['listed_in'].apply(lambda x:x.split())"
   ]
  },
  {
   "cell_type": "code",
   "execution_count": null,
   "id": "a4609bf3-5e5f-420a-aa88-e7aa39bf0fcc",
   "metadata": {},
   "outputs": [],
   "source": []
  },
  {
   "cell_type": "code",
   "execution_count": 105,
   "id": "d053d844-2bee-4dcb-ba9e-cae771880bc0",
   "metadata": {},
   "outputs": [],
   "source": [
    "# movies['type'] = movies['type'].apply(lambda x:x.split())"
   ]
  },
  {
   "cell_type": "code",
   "execution_count": 106,
   "id": "16008da2-fc50-4423-b275-bc4a2f18535f",
   "metadata": {},
   "outputs": [],
   "source": [
    "# movies['title'] = movies['title'].apply(lambda x:x.split())"
   ]
  },
  {
   "cell_type": "code",
   "execution_count": 107,
   "id": "603a87fd-976e-4dbb-8c7f-cc7a1685a11e",
   "metadata": {},
   "outputs": [],
   "source": [
    "# movies['country'] = movies['country'].apply(lambda x:x.split())"
   ]
  },
  {
   "cell_type": "code",
   "execution_count": 108,
   "id": "ad0f310c-ca21-445a-ad6b-7ae7095a0cd7",
   "metadata": {},
   "outputs": [
    {
     "data": {
      "text/html": [
       "<div>\n",
       "<style scoped>\n",
       "    .dataframe tbody tr th:only-of-type {\n",
       "        vertical-align: middle;\n",
       "    }\n",
       "\n",
       "    .dataframe tbody tr th {\n",
       "        vertical-align: top;\n",
       "    }\n",
       "\n",
       "    .dataframe thead th {\n",
       "        text-align: right;\n",
       "    }\n",
       "</style>\n",
       "<table border=\"1\" class=\"dataframe\">\n",
       "  <thead>\n",
       "    <tr style=\"text-align: right;\">\n",
       "      <th></th>\n",
       "      <th>show_id</th>\n",
       "      <th>type</th>\n",
       "      <th>cast</th>\n",
       "      <th>title</th>\n",
       "      <th>country</th>\n",
       "      <th>description</th>\n",
       "      <th>listed_in</th>\n",
       "    </tr>\n",
       "  </thead>\n",
       "  <tbody>\n",
       "    <tr>\n",
       "      <th>0</th>\n",
       "      <td>s2</td>\n",
       "      <td>TV Show</td>\n",
       "      <td>Ama Qamata, Khosi Ngema, Gail Mabalane, Thaban...</td>\n",
       "      <td>Blood &amp; Water</td>\n",
       "      <td>South Africa</td>\n",
       "      <td>After crossing paths at a party, a Cape Town t...</td>\n",
       "      <td>International TV Shows, TV Dramas, TV Mysteries</td>\n",
       "    </tr>\n",
       "    <tr>\n",
       "      <th>1</th>\n",
       "      <td>s5</td>\n",
       "      <td>TV Show</td>\n",
       "      <td>Mayur More, Jitendra Kumar, Ranjan Raj, Alam K...</td>\n",
       "      <td>Kota Factory</td>\n",
       "      <td>India</td>\n",
       "      <td>In a city of coaching centers known to train I...</td>\n",
       "      <td>International TV Shows, Romantic TV Shows, TV ...</td>\n",
       "    </tr>\n",
       "    <tr>\n",
       "      <th>2</th>\n",
       "      <td>s8</td>\n",
       "      <td>Movie</td>\n",
       "      <td>Kofi Ghanaba, Oyafunmike Ogunlano, Alexandra D...</td>\n",
       "      <td>Sankofa</td>\n",
       "      <td>United States, Ghana, Burkina Faso, United Kin...</td>\n",
       "      <td>On a photo shoot in Ghana, an American model s...</td>\n",
       "      <td>Dramas, Independent Movies, International Movies</td>\n",
       "    </tr>\n",
       "    <tr>\n",
       "      <th>3</th>\n",
       "      <td>s9</td>\n",
       "      <td>TV Show</td>\n",
       "      <td>Mel Giedroyc, Sue Perkins, Mary Berry, Paul Ho...</td>\n",
       "      <td>The Great British Baking Show</td>\n",
       "      <td>United Kingdom</td>\n",
       "      <td>A talented batch of amateur bakers face off in...</td>\n",
       "      <td>British TV Shows, Reality TV</td>\n",
       "    </tr>\n",
       "    <tr>\n",
       "      <th>4</th>\n",
       "      <td>s10</td>\n",
       "      <td>Movie</td>\n",
       "      <td>Melissa McCarthy, Chris O'Dowd, Kevin Kline, T...</td>\n",
       "      <td>The Starling</td>\n",
       "      <td>United States</td>\n",
       "      <td>A woman adjusting to life after a loss contend...</td>\n",
       "      <td>Comedies, Dramas</td>\n",
       "    </tr>\n",
       "  </tbody>\n",
       "</table>\n",
       "</div>"
      ],
      "text/plain": [
       "  show_id     type                                               cast  \\\n",
       "0      s2  TV Show  Ama Qamata, Khosi Ngema, Gail Mabalane, Thaban...   \n",
       "1      s5  TV Show  Mayur More, Jitendra Kumar, Ranjan Raj, Alam K...   \n",
       "2      s8    Movie  Kofi Ghanaba, Oyafunmike Ogunlano, Alexandra D...   \n",
       "3      s9  TV Show  Mel Giedroyc, Sue Perkins, Mary Berry, Paul Ho...   \n",
       "4     s10    Movie  Melissa McCarthy, Chris O'Dowd, Kevin Kline, T...   \n",
       "\n",
       "                           title  \\\n",
       "0                  Blood & Water   \n",
       "1                   Kota Factory   \n",
       "2                        Sankofa   \n",
       "3  The Great British Baking Show   \n",
       "4                   The Starling   \n",
       "\n",
       "                                             country  \\\n",
       "0                                       South Africa   \n",
       "1                                              India   \n",
       "2  United States, Ghana, Burkina Faso, United Kin...   \n",
       "3                                     United Kingdom   \n",
       "4                                      United States   \n",
       "\n",
       "                                         description  \\\n",
       "0  After crossing paths at a party, a Cape Town t...   \n",
       "1  In a city of coaching centers known to train I...   \n",
       "2  On a photo shoot in Ghana, an American model s...   \n",
       "3  A talented batch of amateur bakers face off in...   \n",
       "4  A woman adjusting to life after a loss contend...   \n",
       "\n",
       "                                           listed_in  \n",
       "0    International TV Shows, TV Dramas, TV Mysteries  \n",
       "1  International TV Shows, Romantic TV Shows, TV ...  \n",
       "2   Dramas, Independent Movies, International Movies  \n",
       "3                       British TV Shows, Reality TV  \n",
       "4                                   Comedies, Dramas  "
      ]
     },
     "execution_count": 108,
     "metadata": {},
     "output_type": "execute_result"
    }
   ],
   "source": [
    "movies.head()"
   ]
  },
  {
   "cell_type": "code",
   "execution_count": 109,
   "id": "116b1cdc-2c16-4a45-8ffb-bbe8468d0259",
   "metadata": {},
   "outputs": [],
   "source": [
    "# movies['country'].apply(lambda x:[i.replace(\",\",\"\") for i in x])"
   ]
  },
  {
   "cell_type": "code",
   "execution_count": 110,
   "id": "3de9b6d8-581e-4d8c-a659-73e39b009cff",
   "metadata": {},
   "outputs": [],
   "source": [
    "movies['tags'] = movies['cast']+movies['country']+movies['description']+movies['type']+movies['listed_in']"
   ]
  },
  {
   "cell_type": "code",
   "execution_count": 111,
   "id": "4c2f4a41-f32a-4172-8fec-04f98556c7a8",
   "metadata": {},
   "outputs": [
    {
     "data": {
      "text/html": [
       "<div>\n",
       "<style scoped>\n",
       "    .dataframe tbody tr th:only-of-type {\n",
       "        vertical-align: middle;\n",
       "    }\n",
       "\n",
       "    .dataframe tbody tr th {\n",
       "        vertical-align: top;\n",
       "    }\n",
       "\n",
       "    .dataframe thead th {\n",
       "        text-align: right;\n",
       "    }\n",
       "</style>\n",
       "<table border=\"1\" class=\"dataframe\">\n",
       "  <thead>\n",
       "    <tr style=\"text-align: right;\">\n",
       "      <th></th>\n",
       "      <th>show_id</th>\n",
       "      <th>type</th>\n",
       "      <th>cast</th>\n",
       "      <th>title</th>\n",
       "      <th>country</th>\n",
       "      <th>description</th>\n",
       "      <th>listed_in</th>\n",
       "      <th>tags</th>\n",
       "    </tr>\n",
       "  </thead>\n",
       "  <tbody>\n",
       "    <tr>\n",
       "      <th>0</th>\n",
       "      <td>s2</td>\n",
       "      <td>TV Show</td>\n",
       "      <td>Ama Qamata, Khosi Ngema, Gail Mabalane, Thaban...</td>\n",
       "      <td>Blood &amp; Water</td>\n",
       "      <td>South Africa</td>\n",
       "      <td>After crossing paths at a party, a Cape Town t...</td>\n",
       "      <td>International TV Shows, TV Dramas, TV Mysteries</td>\n",
       "      <td>Ama Qamata, Khosi Ngema, Gail Mabalane, Thaban...</td>\n",
       "    </tr>\n",
       "    <tr>\n",
       "      <th>1</th>\n",
       "      <td>s5</td>\n",
       "      <td>TV Show</td>\n",
       "      <td>Mayur More, Jitendra Kumar, Ranjan Raj, Alam K...</td>\n",
       "      <td>Kota Factory</td>\n",
       "      <td>India</td>\n",
       "      <td>In a city of coaching centers known to train I...</td>\n",
       "      <td>International TV Shows, Romantic TV Shows, TV ...</td>\n",
       "      <td>Mayur More, Jitendra Kumar, Ranjan Raj, Alam K...</td>\n",
       "    </tr>\n",
       "    <tr>\n",
       "      <th>2</th>\n",
       "      <td>s8</td>\n",
       "      <td>Movie</td>\n",
       "      <td>Kofi Ghanaba, Oyafunmike Ogunlano, Alexandra D...</td>\n",
       "      <td>Sankofa</td>\n",
       "      <td>United States, Ghana, Burkina Faso, United Kin...</td>\n",
       "      <td>On a photo shoot in Ghana, an American model s...</td>\n",
       "      <td>Dramas, Independent Movies, International Movies</td>\n",
       "      <td>Kofi Ghanaba, Oyafunmike Ogunlano, Alexandra D...</td>\n",
       "    </tr>\n",
       "    <tr>\n",
       "      <th>3</th>\n",
       "      <td>s9</td>\n",
       "      <td>TV Show</td>\n",
       "      <td>Mel Giedroyc, Sue Perkins, Mary Berry, Paul Ho...</td>\n",
       "      <td>The Great British Baking Show</td>\n",
       "      <td>United Kingdom</td>\n",
       "      <td>A talented batch of amateur bakers face off in...</td>\n",
       "      <td>British TV Shows, Reality TV</td>\n",
       "      <td>Mel Giedroyc, Sue Perkins, Mary Berry, Paul Ho...</td>\n",
       "    </tr>\n",
       "    <tr>\n",
       "      <th>4</th>\n",
       "      <td>s10</td>\n",
       "      <td>Movie</td>\n",
       "      <td>Melissa McCarthy, Chris O'Dowd, Kevin Kline, T...</td>\n",
       "      <td>The Starling</td>\n",
       "      <td>United States</td>\n",
       "      <td>A woman adjusting to life after a loss contend...</td>\n",
       "      <td>Comedies, Dramas</td>\n",
       "      <td>Melissa McCarthy, Chris O'Dowd, Kevin Kline, T...</td>\n",
       "    </tr>\n",
       "  </tbody>\n",
       "</table>\n",
       "</div>"
      ],
      "text/plain": [
       "  show_id     type                                               cast  \\\n",
       "0      s2  TV Show  Ama Qamata, Khosi Ngema, Gail Mabalane, Thaban...   \n",
       "1      s5  TV Show  Mayur More, Jitendra Kumar, Ranjan Raj, Alam K...   \n",
       "2      s8    Movie  Kofi Ghanaba, Oyafunmike Ogunlano, Alexandra D...   \n",
       "3      s9  TV Show  Mel Giedroyc, Sue Perkins, Mary Berry, Paul Ho...   \n",
       "4     s10    Movie  Melissa McCarthy, Chris O'Dowd, Kevin Kline, T...   \n",
       "\n",
       "                           title  \\\n",
       "0                  Blood & Water   \n",
       "1                   Kota Factory   \n",
       "2                        Sankofa   \n",
       "3  The Great British Baking Show   \n",
       "4                   The Starling   \n",
       "\n",
       "                                             country  \\\n",
       "0                                       South Africa   \n",
       "1                                              India   \n",
       "2  United States, Ghana, Burkina Faso, United Kin...   \n",
       "3                                     United Kingdom   \n",
       "4                                      United States   \n",
       "\n",
       "                                         description  \\\n",
       "0  After crossing paths at a party, a Cape Town t...   \n",
       "1  In a city of coaching centers known to train I...   \n",
       "2  On a photo shoot in Ghana, an American model s...   \n",
       "3  A talented batch of amateur bakers face off in...   \n",
       "4  A woman adjusting to life after a loss contend...   \n",
       "\n",
       "                                           listed_in  \\\n",
       "0    International TV Shows, TV Dramas, TV Mysteries   \n",
       "1  International TV Shows, Romantic TV Shows, TV ...   \n",
       "2   Dramas, Independent Movies, International Movies   \n",
       "3                       British TV Shows, Reality TV   \n",
       "4                                   Comedies, Dramas   \n",
       "\n",
       "                                                tags  \n",
       "0  Ama Qamata, Khosi Ngema, Gail Mabalane, Thaban...  \n",
       "1  Mayur More, Jitendra Kumar, Ranjan Raj, Alam K...  \n",
       "2  Kofi Ghanaba, Oyafunmike Ogunlano, Alexandra D...  \n",
       "3  Mel Giedroyc, Sue Perkins, Mary Berry, Paul Ho...  \n",
       "4  Melissa McCarthy, Chris O'Dowd, Kevin Kline, T...  "
      ]
     },
     "execution_count": 111,
     "metadata": {},
     "output_type": "execute_result"
    }
   ],
   "source": [
    "movies.head()"
   ]
  },
  {
   "cell_type": "code",
   "execution_count": 112,
   "id": "99c59035-7984-4115-9fb6-2b3ab23cc770",
   "metadata": {},
   "outputs": [],
   "source": [
    "new_df = movies[['show_id','title','tags']]"
   ]
  },
  {
   "cell_type": "code",
   "execution_count": 113,
   "id": "b7a1e7d2-45fd-43a9-a011-9889954f6f90",
   "metadata": {},
   "outputs": [
    {
     "data": {
      "text/html": [
       "<div>\n",
       "<style scoped>\n",
       "    .dataframe tbody tr th:only-of-type {\n",
       "        vertical-align: middle;\n",
       "    }\n",
       "\n",
       "    .dataframe tbody tr th {\n",
       "        vertical-align: top;\n",
       "    }\n",
       "\n",
       "    .dataframe thead th {\n",
       "        text-align: right;\n",
       "    }\n",
       "</style>\n",
       "<table border=\"1\" class=\"dataframe\">\n",
       "  <thead>\n",
       "    <tr style=\"text-align: right;\">\n",
       "      <th></th>\n",
       "      <th>show_id</th>\n",
       "      <th>title</th>\n",
       "      <th>tags</th>\n",
       "    </tr>\n",
       "  </thead>\n",
       "  <tbody>\n",
       "    <tr>\n",
       "      <th>0</th>\n",
       "      <td>s2</td>\n",
       "      <td>Blood &amp; Water</td>\n",
       "      <td>Ama Qamata, Khosi Ngema, Gail Mabalane, Thaban...</td>\n",
       "    </tr>\n",
       "    <tr>\n",
       "      <th>1</th>\n",
       "      <td>s5</td>\n",
       "      <td>Kota Factory</td>\n",
       "      <td>Mayur More, Jitendra Kumar, Ranjan Raj, Alam K...</td>\n",
       "    </tr>\n",
       "    <tr>\n",
       "      <th>2</th>\n",
       "      <td>s8</td>\n",
       "      <td>Sankofa</td>\n",
       "      <td>Kofi Ghanaba, Oyafunmike Ogunlano, Alexandra D...</td>\n",
       "    </tr>\n",
       "    <tr>\n",
       "      <th>3</th>\n",
       "      <td>s9</td>\n",
       "      <td>The Great British Baking Show</td>\n",
       "      <td>Mel Giedroyc, Sue Perkins, Mary Berry, Paul Ho...</td>\n",
       "    </tr>\n",
       "    <tr>\n",
       "      <th>4</th>\n",
       "      <td>s10</td>\n",
       "      <td>The Starling</td>\n",
       "      <td>Melissa McCarthy, Chris O'Dowd, Kevin Kline, T...</td>\n",
       "    </tr>\n",
       "    <tr>\n",
       "      <th>...</th>\n",
       "      <td>...</td>\n",
       "      <td>...</td>\n",
       "      <td>...</td>\n",
       "    </tr>\n",
       "    <tr>\n",
       "      <th>7300</th>\n",
       "      <td>s8802</td>\n",
       "      <td>Zinzana</td>\n",
       "      <td>Ali Suliman, Saleh Bakri, Yasa, Ali Al-Jabri, ...</td>\n",
       "    </tr>\n",
       "    <tr>\n",
       "      <th>7301</th>\n",
       "      <td>s8803</td>\n",
       "      <td>Zodiac</td>\n",
       "      <td>Mark Ruffalo, Jake Gyllenhaal, Robert Downey J...</td>\n",
       "    </tr>\n",
       "    <tr>\n",
       "      <th>7302</th>\n",
       "      <td>s8805</td>\n",
       "      <td>Zombieland</td>\n",
       "      <td>Jesse Eisenberg, Woody Harrelson, Emma Stone, ...</td>\n",
       "    </tr>\n",
       "    <tr>\n",
       "      <th>7303</th>\n",
       "      <td>s8806</td>\n",
       "      <td>Zoom</td>\n",
       "      <td>Tim Allen, Courteney Cox, Chevy Chase, Kate Ma...</td>\n",
       "    </tr>\n",
       "    <tr>\n",
       "      <th>7304</th>\n",
       "      <td>s8807</td>\n",
       "      <td>Zubaan</td>\n",
       "      <td>Vicky Kaushal, Sarah-Jane Dias, Raaghav Chanan...</td>\n",
       "    </tr>\n",
       "  </tbody>\n",
       "</table>\n",
       "<p>7305 rows × 3 columns</p>\n",
       "</div>"
      ],
      "text/plain": [
       "     show_id                          title  \\\n",
       "0         s2                  Blood & Water   \n",
       "1         s5                   Kota Factory   \n",
       "2         s8                        Sankofa   \n",
       "3         s9  The Great British Baking Show   \n",
       "4        s10                   The Starling   \n",
       "...      ...                            ...   \n",
       "7300   s8802                        Zinzana   \n",
       "7301   s8803                         Zodiac   \n",
       "7302   s8805                     Zombieland   \n",
       "7303   s8806                           Zoom   \n",
       "7304   s8807                         Zubaan   \n",
       "\n",
       "                                                   tags  \n",
       "0     Ama Qamata, Khosi Ngema, Gail Mabalane, Thaban...  \n",
       "1     Mayur More, Jitendra Kumar, Ranjan Raj, Alam K...  \n",
       "2     Kofi Ghanaba, Oyafunmike Ogunlano, Alexandra D...  \n",
       "3     Mel Giedroyc, Sue Perkins, Mary Berry, Paul Ho...  \n",
       "4     Melissa McCarthy, Chris O'Dowd, Kevin Kline, T...  \n",
       "...                                                 ...  \n",
       "7300  Ali Suliman, Saleh Bakri, Yasa, Ali Al-Jabri, ...  \n",
       "7301  Mark Ruffalo, Jake Gyllenhaal, Robert Downey J...  \n",
       "7302  Jesse Eisenberg, Woody Harrelson, Emma Stone, ...  \n",
       "7303  Tim Allen, Courteney Cox, Chevy Chase, Kate Ma...  \n",
       "7304  Vicky Kaushal, Sarah-Jane Dias, Raaghav Chanan...  \n",
       "\n",
       "[7305 rows x 3 columns]"
      ]
     },
     "execution_count": 113,
     "metadata": {},
     "output_type": "execute_result"
    }
   ],
   "source": [
    "new_df"
   ]
  },
  {
   "cell_type": "code",
   "execution_count": 114,
   "id": "106d37f2-3f6f-4437-ab49-19ecac4af7dd",
   "metadata": {},
   "outputs": [
    {
     "name": "stderr",
     "output_type": "stream",
     "text": [
      "C:\\Users\\dell\\AppData\\Local\\Temp\\ipykernel_28480\\3214958533.py:1: SettingWithCopyWarning: \n",
      "A value is trying to be set on a copy of a slice from a DataFrame.\n",
      "Try using .loc[row_indexer,col_indexer] = value instead\n",
      "\n",
      "See the caveats in the documentation: https://pandas.pydata.org/pandas-docs/stable/user_guide/indexing.html#returning-a-view-versus-a-copy\n",
      "  new_df['tags'] = new_df['tags'].apply(lambda x:x.lower())\n"
     ]
    }
   ],
   "source": [
    "new_df['tags'] = new_df['tags'].apply(lambda x:x.lower())"
   ]
  },
  {
   "cell_type": "code",
   "execution_count": 115,
   "id": "878420fc-41de-4a60-b346-00e378d93601",
   "metadata": {},
   "outputs": [
    {
     "data": {
      "text/plain": [
       "'ama qamata, khosi ngema, gail mabalane, thabang molaba, dillon windvogel, natasha thahane, arno greeff, xolile tshabalala, getmore sithole, cindy mahlangu, ryle de morny, greteli fincham, sello maake ka-ncube, odwa gwanya, mekaila mathys, sandi schultz, duane williams, shamilla miller, patrick mofokengsouth africaafter crossing paths at a party, a cape town teen sets out to prove whether a private-school swimming star is her sister who was abducted at birth.tv showinternational tv shows, tv dramas, tv mysteries'"
      ]
     },
     "execution_count": 115,
     "metadata": {},
     "output_type": "execute_result"
    }
   ],
   "source": [
    "new_df['tags'][0]"
   ]
  },
  {
   "cell_type": "code",
   "execution_count": 116,
   "id": "4aaec935-31f3-4c41-bb27-1791dd089857",
   "metadata": {},
   "outputs": [],
   "source": [
    "import nltk"
   ]
  },
  {
   "cell_type": "code",
   "execution_count": 117,
   "id": "fb1e14f2-8886-439c-8499-b9361d1964b0",
   "metadata": {},
   "outputs": [],
   "source": [
    "from nltk.stem.porter import PorterStemmer\n",
    "ps = PorterStemmer()"
   ]
  },
  {
   "cell_type": "code",
   "execution_count": 118,
   "id": "88e6fbd2-f3a5-4658-9f54-87389e2ff813",
   "metadata": {},
   "outputs": [],
   "source": [
    "def stem(text):\n",
    "    y = []\n",
    "    for i in text.split():\n",
    "        y.append(ps.stem(i))\n",
    "    return \" \".join(y)\n",
    "        "
   ]
  },
  {
   "cell_type": "code",
   "execution_count": 119,
   "id": "dca51651-6a70-4098-827c-b549d5cb08d3",
   "metadata": {},
   "outputs": [
    {
     "name": "stderr",
     "output_type": "stream",
     "text": [
      "C:\\Users\\dell\\AppData\\Local\\Temp\\ipykernel_28480\\3213734980.py:1: SettingWithCopyWarning: \n",
      "A value is trying to be set on a copy of a slice from a DataFrame.\n",
      "Try using .loc[row_indexer,col_indexer] = value instead\n",
      "\n",
      "See the caveats in the documentation: https://pandas.pydata.org/pandas-docs/stable/user_guide/indexing.html#returning-a-view-versus-a-copy\n",
      "  new_df['tags'] = new_df['tags'].apply(stem)\n"
     ]
    }
   ],
   "source": [
    "new_df['tags'] = new_df['tags'].apply(stem)"
   ]
  },
  {
   "cell_type": "code",
   "execution_count": 120,
   "id": "dc7a9082-b02b-424b-a3c6-8d835c8c378a",
   "metadata": {},
   "outputs": [],
   "source": [
    "from sklearn.feature_extraction.text import CountVectorizer\n",
    "cv = CountVectorizer(max_features=5000 , stop_words = 'english')"
   ]
  },
  {
   "cell_type": "code",
   "execution_count": 121,
   "id": "4efef2ef-3b35-4ffd-82bc-f4adb3f668ce",
   "metadata": {},
   "outputs": [],
   "source": [
    "vectors = cv.fit_transform(new_df['tags']).toarray()"
   ]
  },
  {
   "cell_type": "code",
   "execution_count": 122,
   "id": "07b452e5-f8b8-49f8-9d8c-b9541b92fd14",
   "metadata": {},
   "outputs": [
    {
     "data": {
      "text/plain": [
       "array([[0, 0, 0, ..., 0, 0, 0],\n",
       "       [0, 0, 0, ..., 0, 0, 0],\n",
       "       [0, 0, 0, ..., 0, 0, 0],\n",
       "       ...,\n",
       "       [0, 0, 0, ..., 0, 0, 0],\n",
       "       [0, 0, 0, ..., 0, 0, 0],\n",
       "       [0, 0, 0, ..., 0, 0, 0]], dtype=int64)"
      ]
     },
     "execution_count": 122,
     "metadata": {},
     "output_type": "execute_result"
    }
   ],
   "source": [
    "vectors"
   ]
  },
  {
   "cell_type": "code",
   "execution_count": 123,
   "id": "04842814-d476-4270-aee4-b7b2dfd237ed",
   "metadata": {},
   "outputs": [
    {
     "data": {
      "text/plain": [
       "array(['000', '10', '100', ..., 'álvarez', 'álvaro', 'ángel'],\n",
       "      dtype=object)"
      ]
     },
     "execution_count": 123,
     "metadata": {},
     "output_type": "execute_result"
    }
   ],
   "source": [
    "cv.get_feature_names_out()"
   ]
  },
  {
   "cell_type": "code",
   "execution_count": 124,
   "id": "71935f17-7304-4673-9414-38d7e49d149d",
   "metadata": {},
   "outputs": [],
   "source": [
    "from sklearn.metrics.pairwise import cosine_similarity"
   ]
  },
  {
   "cell_type": "code",
   "execution_count": 125,
   "id": "e3ae3293-a903-4322-b2d2-24a9e3b27c2e",
   "metadata": {},
   "outputs": [],
   "source": [
    "similarity = cosine_similarity(vectors)"
   ]
  },
  {
   "cell_type": "code",
   "execution_count": 137,
   "id": "358fa5f3-7a9f-47ad-91b6-6abdc0500d0b",
   "metadata": {},
   "outputs": [],
   "source": [
    "def recommend(movie):\n",
    "    movie_index = new_df[new_df['title']==movie].index[0]\n",
    "    distances = similarity[movie_index]\n",
    "    movies_list = sorted(list(enumerate(distances)), reverse = True , key = lambda x:x[1])[1:6]\n",
    "\n",
    "    for i in movies_list:\n",
    "        print(new_df.iloc[i[0]].show_id)"
   ]
  },
  {
   "cell_type": "code",
   "execution_count": 138,
   "id": "f6ed31e6-3f58-435a-af0c-192ee8056d15",
   "metadata": {},
   "outputs": [
    {
     "name": "stdout",
     "output_type": "stream",
     "text": [
      "s7957\n",
      "s7264\n",
      "s1238\n",
      "s4749\n",
      "s7211\n"
     ]
    }
   ],
   "source": [
    "recommend('Zombieland')"
   ]
  },
  {
   "cell_type": "code",
   "execution_count": 128,
   "id": "c131742b-6e48-4884-a31a-5f6f366340de",
   "metadata": {},
   "outputs": [],
   "source": [
    "import pickle"
   ]
  },
  {
   "cell_type": "code",
   "execution_count": 129,
   "id": "7c3d47d4-c54a-42c7-97ed-fb5cd3682a05",
   "metadata": {},
   "outputs": [],
   "source": [
    "pickle.dump(new_df.to_dict(),open('movie_dict.pkl','wb'))"
   ]
  },
  {
   "cell_type": "code",
   "execution_count": 130,
   "id": "a5ecad0f-32e4-4e18-8b3b-ca149a2c2d43",
   "metadata": {},
   "outputs": [],
   "source": [
    "pickle.dump(similarity,open('similarity.pkl','wb'))"
   ]
  },
  {
   "cell_type": "code",
   "execution_count": null,
   "id": "b44809ad-8e53-453d-ad98-ce60966708c3",
   "metadata": {},
   "outputs": [],
   "source": []
  }
 ],
 "metadata": {
  "kernelspec": {
   "display_name": "Python 3 (ipykernel)",
   "language": "python",
   "name": "python3"
  },
  "language_info": {
   "codemirror_mode": {
    "name": "ipython",
    "version": 3
   },
   "file_extension": ".py",
   "mimetype": "text/x-python",
   "name": "python",
   "nbconvert_exporter": "python",
   "pygments_lexer": "ipython3",
   "version": "3.12.4"
  }
 },
 "nbformat": 4,
 "nbformat_minor": 5
}
